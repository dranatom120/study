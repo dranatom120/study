{
 "cells": [
  {
   "cell_type": "markdown",
   "metadata": {},
   "source": [
    "# Библиотека `NumPy`: часть 2\n",
    "\n",
    "*Алла Тамбовцева*\n",
    "\n",
    "## Домашнее задание \n",
    "\n",
    "### Описание домашнего задания и формат сдачи\n",
    "\n",
    "В домашнем задании необходимо решить предложенные задачи по программированию – вписать свой код в ячейки после условий задач вместо комментария `### YOUR CODE HERE ###` в файле *homework-numpy2.ipynb* и сохранить изменения, используя опцию *Save and Checkpoint* из вкладки меню *File* или кнопку *Save and Checkpoint* на панели инструментов. Итоговый файл в формате `.ipynb` (файл Jupyter Notebook) необходимо загрузить в личный кабинет обучающей онлайн платформы Skillbox (https://go.skillbox.ru/) и отправить на проверку."
   ]
  },
  {
   "cell_type": "markdown",
   "metadata": {},
   "source": [
    "### Задание 1\n",
    "Загрузить из файла `array_hw.npy` массив и сохранить его как `arr`. Массив содержит объёмы продаж мороженого (в штуках) в 5 магазинах за одну неделю в июне (7 дней, с понедельника до воскресенья). В заданиях 2-5 нужно работать с массивом `arr`."
   ]
  },
  {
   "cell_type": "code",
   "execution_count": 15,
   "metadata": {},
   "outputs": [
    {
     "data": {
      "text/plain": [
       "array([[100,  80,  70,  60, 120],\n",
       "       [ 65,  55,  20,  50,  60],\n",
       "       [ 80,  90,  75,  80,  60],\n",
       "       [ 45,  60,  70,  20,  40],\n",
       "       [ 82,  47,  56,  89,  92],\n",
       "       [115, 120, 113, 106, 107],\n",
       "       [ 46,  74,  23,  34,  19]], dtype=int64)"
      ]
     },
     "execution_count": 15,
     "metadata": {},
     "output_type": "execute_result"
    }
   ],
   "source": [
    "import numpy as np\n",
    "arr = np.load(\"array.npy\")\n",
    "arr"
   ]
  },
  {
   "cell_type": "markdown",
   "metadata": {},
   "source": [
    "### Задание 2\n",
    "Если думать о массиве `arr` как о таблице, сейчас в таблице магазины идут по столбцам (1 магазин = 1 столбец, всего 5), а дни – по строкам (1 день = 1 строка, всего 7). Преобразовать массив `arr` таким образом, чтобы по строкам шли магазины, а по столбцам – дни (1 строка = 1 магазин). Сохранить изменения. Проверить, что форма массива изменилась."
   ]
  },
  {
   "cell_type": "code",
   "execution_count": 16,
   "metadata": {},
   "outputs": [
    {
     "data": {
      "text/plain": [
       "array([[100,  65,  80,  45,  82, 115,  46],\n",
       "       [ 80,  55,  90,  60,  47, 120,  74],\n",
       "       [ 70,  20,  75,  70,  56, 113,  23],\n",
       "       [ 60,  50,  80,  20,  89, 106,  34],\n",
       "       [120,  60,  60,  40,  92, 107,  19]], dtype=int64)"
      ]
     },
     "execution_count": 16,
     "metadata": {},
     "output_type": "execute_result"
    }
   ],
   "source": [
    "arr = arr.transpose()\n",
    "arr"
   ]
  },
  {
   "cell_type": "markdown",
   "metadata": {},
   "source": [
    "### Задание 3\n",
    "\n",
    "Давайте представим, что информация по продажам обновилась: оказалось, что пятый магазин в воскресенье продал не 19 порций мороженого, а 25, и второй магазин продал во вторник не 55 порций, а 65. Изменить массив `arr` в соответствии с этой информацией."
   ]
  },
  {
   "cell_type": "code",
   "execution_count": 20,
   "metadata": {},
   "outputs": [
    {
     "data": {
      "text/plain": [
       "array([[100,  65,  80,  45,  82, 115,  46],\n",
       "       [ 80,  65,  90,  60,  47, 120,  74],\n",
       "       [ 70,  20,  75,  70,  56, 113,  23],\n",
       "       [ 60,  50,  80,  20,  89, 106,  34],\n",
       "       [120,  60,  60,  40,  92, 107,  25]], dtype=int64)"
      ]
     },
     "execution_count": 20,
     "metadata": {},
     "output_type": "execute_result"
    }
   ],
   "source": [
    "arr[4][6] = 25\n",
    "arr [1][1] = 65\n",
    "arr"
   ]
  },
  {
   "cell_type": "markdown",
   "metadata": {},
   "source": [
    "### Задание 4\n",
    "\n",
    "Посчитать суммарный объём продаж мороженого по всем магазинам."
   ]
  },
  {
   "cell_type": "code",
   "execution_count": 21,
   "metadata": {},
   "outputs": [
    {
     "data": {
      "text/plain": [
       "2439"
      ]
     },
     "execution_count": 21,
     "metadata": {},
     "output_type": "execute_result"
    }
   ],
   "source": [
    "arr.sum()"
   ]
  },
  {
   "cell_type": "markdown",
   "metadata": {},
   "source": [
    "### Задание 5\n",
    "\n",
    "Выгрузить обновлённый массив `arr` в txt-файл. Сам txt-файл загружать в систему не нужно, только написать соответствующий код в ipynb-файл."
   ]
  },
  {
   "cell_type": "code",
   "execution_count": 22,
   "metadata": {},
   "outputs": [],
   "source": [
    "np.savetxt(\"arr.txt\", arr)"
   ]
  },
  {
   "cell_type": "markdown",
   "metadata": {},
   "source": [
    "### Задание 6\n",
    "Дан массив `income`, содержащий значения прибыли магазина в тысячах на начало, середину и конец года, за четыре года подряд (значения никак не сгруппированы, можно считать, что они так выгрузились из файла). \n",
    "Изменить форму массива так, чтобы значения были сгруппированы по три значения в каждом списке внутри массива (прибыль на начало, середину и конец года)."
   ]
  },
  {
   "cell_type": "code",
   "execution_count": 25,
   "metadata": {},
   "outputs": [],
   "source": [
    "# массив\n",
    "income = np.array([1000, 2000, 3500, \n",
    "                   2500, 1500, 3800, \n",
    "                   1200, 9000, 12000,\n",
    "                   4500, 6700, 11000])"
   ]
  },
  {
   "cell_type": "code",
   "execution_count": 29,
   "metadata": {},
   "outputs": [
    {
     "data": {
      "text/plain": [
       "array([[ 1000,  2000,  3500],\n",
       "       [ 2500,  1500,  3800],\n",
       "       [ 1200,  9000, 12000],\n",
       "       [ 4500,  6700, 11000]])"
      ]
     },
     "execution_count": 29,
     "metadata": {},
     "output_type": "execute_result"
    }
   ],
   "source": [
    "income.reshape(4,3)"
   ]
  },
  {
   "cell_type": "markdown",
   "metadata": {},
   "source": [
    "### Задание 7\n",
    "Создать список `turnout` (*list*, не массив), содержащий следующие значения явки на избирательные участки в процентах:\n",
    "\n",
    "23.56, 45.78, 34.92, 57.34, 56.55, 67.23.\n",
    "\n",
    "Создать, используя списковые включения и встроенные, не из `NumPy`, функции для округления, новый список `turnout_r`, который состоит из округлённых до первого знака после запятой значений явки из `turnout`."
   ]
  },
  {
   "cell_type": "code",
   "execution_count": 33,
   "metadata": {},
   "outputs": [
    {
     "data": {
      "text/plain": [
       "[23.6, 45.8, 34.9, 57.3, 56.5, 67.2]"
      ]
     },
     "execution_count": 33,
     "metadata": {},
     "output_type": "execute_result"
    }
   ],
   "source": [
    "turnout = [23.56, 45.78, 34.92, 57.34, 56.55, 67.23]\n",
    "turnout_r = [round(i,1) for i in turnout]\n",
    "turnout_r"
   ]
  },
  {
   "cell_type": "markdown",
   "metadata": {},
   "source": [
    "### Задание 8\n",
    "Выполнить те же операции, что и в предыдущей задаче, но с использованием массивов и функций `NumPy`. Другими словами, создать массив `turnout` и на его основе создать массив `turnout_r` с округлёнными до первого знака значениями явки."
   ]
  },
  {
   "cell_type": "code",
   "execution_count": 37,
   "metadata": {},
   "outputs": [
    {
     "data": {
      "text/plain": [
       "array([23.6, 45.8, 34.9, 57.3, 56.6, 67.2])"
      ]
     },
     "execution_count": 37,
     "metadata": {},
     "output_type": "execute_result"
    }
   ],
   "source": [
    "turnout = np.array([23.56, 45.78, 34.92, 57.34, 56.55, 67.23])\n",
    "turnout_r = np.round(turnout, decimals = 1)\n",
    "turnout_r"
   ]
  },
  {
   "cell_type": "markdown",
   "metadata": {},
   "source": [
    "### Задание 9\n",
    "\n",
    "Зайдите на [страницу](https://ru.wikipedia.org/wiki/%D0%9C%D0%B5%D0%B6%D0%B4%D1%83%D0%BD%D0%B0%D1%80%D0%BE%D0%B4%D0%BD%D1%8B%D0%B9_%D0%B8%D0%BD%D0%B4%D0%B5%D0%BA%D1%81_%D1%81%D1%87%D0%B0%D1%81%D1%82%D1%8C%D1%8F) Википедии, посвящённую Международному индексу счастья, выберите из таблицы **2012 Международный индекс счастья** любые 5 стран и любые 3 показателя и создайте структурированный массив `happy`, такой, в котором есть поле «название страны» и поля для трёх выбранных показателей. Выберите подходящий тип для каждого поля (показателя) в массиве и учтите это при создание структурированного массива. Выведите полученный массив на экран."
   ]
  },
  {
   "cell_type": "code",
   "execution_count": 42,
   "metadata": {},
   "outputs": [
    {
     "data": {
      "text/plain": [
       "array([('Norvegy', 51.4, 7.6, 81.1), ('Switzerlan', 50.3, 7.5, 82.3),\n",
       "       ('Venezuela', 56.9, 7.5, 74.4), ('Israel', 55.2, 7.4, 81.6),\n",
       "       ('Austria', 47.1, 7.3, 80.9)],\n",
       "      dtype=[('country', '<U10'), ('hpi', '<f8'), ('satisfaction', '<f8'), ('lifespan', '<f8')])"
      ]
     },
     "execution_count": 42,
     "metadata": {},
     "output_type": "execute_result"
    }
   ],
   "source": [
    "happy = np.array([('Norvegy', 51.4, 7.6, 81.1),\n",
    "         ('Switzerland', 50.3, 7.5, 82.3),\n",
    "         ('Venezuela', 56.9, 7.5, 74.4),\n",
    "         ('Israel', 55.2, 7.4, 81.6),\n",
    "         ('Austria', 47.1, 7.3, 80.9)],\n",
    "dtype = [('country', 'U10'),\n",
    "        ('hpi', 'float'),\n",
    "        ('satisfaction', 'float'),\n",
    "        ('lifespan', 'float')])\n",
    "happy"
   ]
  },
  {
   "cell_type": "markdown",
   "metadata": {},
   "source": [
    "### Задание 10\n",
    "Сконвертируйте полученный в предыдущей задаче структурированный массив в обычный список и выведите на экран его второй элемент."
   ]
  },
  {
   "cell_type": "code",
   "execution_count": 46,
   "metadata": {},
   "outputs": [
    {
     "data": {
      "text/plain": [
       "('Switzerlan', 50.3, 7.5, 82.3)"
      ]
     },
     "execution_count": 46,
     "metadata": {},
     "output_type": "execute_result"
    }
   ],
   "source": [
    "happylist = happy.tolist()\n",
    "happylist[1]"
   ]
  }
 ],
 "metadata": {
  "kernelspec": {
   "display_name": "Python 3",
   "language": "python",
   "name": "python3"
  },
  "language_info": {
   "codemirror_mode": {
    "name": "ipython",
    "version": 3
   },
   "file_extension": ".py",
   "mimetype": "text/x-python",
   "name": "python",
   "nbconvert_exporter": "python",
   "pygments_lexer": "ipython3",
   "version": "3.7.0"
  }
 },
 "nbformat": 4,
 "nbformat_minor": 2
}
